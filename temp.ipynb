{
 "cells": [
  {
   "cell_type": "code",
   "execution_count": 1,
   "id": "5583781a-2344-49c6-8af1-4f0a848f808e",
   "metadata": {},
   "outputs": [],
   "source": [
    "#import cv2\n",
    "#import os\n",
    "#import time\n",
    "#import uuid"
   ]
  },
  {
   "cell_type": "code",
   "execution_count": 2,
   "id": "fc7b6775-5d87-449a-92c9-015420bc3bf3",
   "metadata": {},
   "outputs": [],
   "source": [
    "#IMAGES_PATH = 'Tensorflow/workspace/images/collectedimages'"
   ]
  },
  {
   "cell_type": "code",
   "execution_count": 3,
   "id": "861708ba-b3c5-4625-af4e-3c3cd5d6885c",
   "metadata": {},
   "outputs": [],
   "source": [
    "#labels = ['hello', 'thanks', 'yes', 'no', 'iloveyou']\n",
    "#number_imgs = 15"
   ]
  },
  {
   "cell_type": "code",
   "execution_count": null,
   "id": "ff30263f-97d0-4209-8a6b-a03e6762fdba",
   "metadata": {},
   "outputs": [
    {
     "name": "stdout",
     "output_type": "stream",
     "text": [
      "mkdir: Tensorflow/workspace/images/collectedimages: No such file or directory\n",
      "Collecting images for hello\n"
     ]
    },
    {
     "name": "stderr",
     "output_type": "stream",
     "text": [
      "2024-08-05 14:26:52.841 Python[81285:3610791] WARNING: Secure coding is not enabled for restorable state! Enable secure coding by implementing NSApplicationDelegate.applicationSupportsSecureRestorableState: and returning YES.\n"
     ]
    },
    {
     "name": "stdout",
     "output_type": "stream",
     "text": [
      "mkdir: Tensorflow/workspace/images/collectedimages: No such file or directory\n",
      "Collecting images for thanks\n"
     ]
    }
   ],
   "source": [
    "#for label in labels:\n",
    "    #!mkdir {'Tensorflow/workspace/images/collectedimages//'+label}\n",
    "    #cap = cv2.VideoCapture(0)\n",
    "    #print('Collecting images for {}'.format(label))\n",
    "    #time.sleep(5)\n",
    "    #for imgnum in range(number_imgs):\n",
    "        #ret, frame = cap.read()\n",
    "        #imgname = os.path.join(IMAGES_PATH, label, label+'.'+'{}.jpg'.format(str(uuid.uuid1())))\n",
    "        #cv2.imwrite(imgname, frame)\n",
    "        #cv2.imshow('frame', frame)\n",
    "        #time.sleep(2)\n",
    "\n",
    "        #if cv2.waitKey(1) & 0xFF == ord('q'):\n",
    "            #break\n",
    "    #cap.release()\n",
    "        "
   ]
  },
  {
   "cell_type": "code",
   "execution_count": 1,
   "id": "643a0fe1-dcba-4071-9ef4-8917622868dc",
   "metadata": {},
   "outputs": [
    {
     "name": "stdout",
     "output_type": "stream",
     "text": [
      "Collecting images for hello\n"
     ]
    },
    {
     "name": "stderr",
     "output_type": "stream",
     "text": [
      "2024-08-05 14:30:32.411 Python[81350:3612623] WARNING: Secure coding is not enabled for restorable state! Enable secure coding by implementing NSApplicationDelegate.applicationSupportsSecureRestorableState: and returning YES.\n"
     ]
    },
    {
     "name": "stdout",
     "output_type": "stream",
     "text": [
      "Collecting images for thanks\n",
      "Collecting images for yes\n",
      "Collecting images for no\n",
      "Collecting images for iloveyou\n"
     ]
    }
   ],
   "source": [
    "import cv2\n",
    "import os\n",
    "import time\n",
    "import uuid\n",
    "\n",
    "# Paths and labels\n",
    "IMAGES_PATH = 'Tensorflow/workspace/images/collectedimages'\n",
    "labels = ['hello', 'thanks', 'yes', 'no', 'iloveyou']\n",
    "number_imgs = 15\n",
    "\n",
    "# Ensure the base directory exists\n",
    "if not os.path.exists(IMAGES_PATH):\n",
    "    os.makedirs(IMAGES_PATH)\n",
    "\n",
    "for label in labels:\n",
    "    # Create label directory if it doesn't exist\n",
    "    label_dir = os.path.join(IMAGES_PATH, label)\n",
    "    if not os.path.exists(label_dir):\n",
    "        os.makedirs(label_dir)\n",
    "\n",
    "    # Open the camera\n",
    "    cap = cv2.VideoCapture(0)\n",
    "    if not cap.isOpened():\n",
    "        print(f\"Error: Could not open camera for label '{label}'.\")\n",
    "        continue\n",
    "    \n",
    "    print(f'Collecting images for {label}')\n",
    "    time.sleep(5)  # Wait for the camera to initialize\n",
    "\n",
    "    for imgnum in range(number_imgs):\n",
    "        ret, frame = cap.read()\n",
    "        if not ret:\n",
    "            print(f\"Error: Could not read frame for label '{label}'.\")\n",
    "            break\n",
    "\n",
    "        imgname = os.path.join(label_dir, f'{label}_{uuid.uuid1()}.jpg')\n",
    "        success = cv2.imwrite(imgname, frame)\n",
    "        if not success:\n",
    "            print(f\"Error: Could not save image for label '{label}'.\")\n",
    "\n",
    "        cv2.imshow('frame', frame)\n",
    "        time.sleep(2)\n",
    "\n",
    "        # Break if 'q' is pressed\n",
    "        if cv2.waitKey(1) & 0xFF == ord('q'):\n",
    "            break\n",
    "\n",
    "    cap.release()"
   ]
  },
  {
   "cell_type": "code",
   "execution_count": null,
   "id": "d7ae1a4a-1015-4a59-8e2a-12a778b44552",
   "metadata": {},
   "outputs": [],
   "source": []
  }
 ],
 "metadata": {
  "kernelspec": {
   "display_name": "Python (myenv)",
   "language": "python",
   "name": "myenv"
  },
  "language_info": {
   "codemirror_mode": {
    "name": "ipython",
    "version": 3
   },
   "file_extension": ".py",
   "mimetype": "text/x-python",
   "name": "python",
   "nbconvert_exporter": "python",
   "pygments_lexer": "ipython3",
   "version": "3.10.11"
  }
 },
 "nbformat": 4,
 "nbformat_minor": 5
}
